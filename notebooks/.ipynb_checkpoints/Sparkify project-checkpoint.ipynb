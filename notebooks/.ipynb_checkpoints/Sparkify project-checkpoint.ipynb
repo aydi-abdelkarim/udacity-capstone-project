{
 "cells": [
  {
   "cell_type": "markdown",
   "metadata": {},
   "source": [
    "# Sparkify Project\n",
    "by AYDI Abdelkarim, PhD"
   ]
  },
  {
   "cell_type": "markdown",
   "metadata": {},
   "source": [
    "# Setup"
   ]
  },
  {
   "cell_type": "code",
   "execution_count": 1,
   "metadata": {
    "ExecuteTime": {
     "end_time": "2020-04-17T23:21:57.096103Z",
     "start_time": "2020-04-17T23:21:47.963070Z"
    }
   },
   "outputs": [],
   "source": [
    "# Data wrangling\n",
    "from pyspark.sql import SparkSession\n",
    "from pyspark.sql.types import StringType, IntegerType\n",
    "import pyspark.sql.functions as F\n",
    "import pandas as pd\n",
    "\n",
    "# ML\n",
    "from pyspark.ml.feature import StandardScaler, StringIndexer, VectorAssembler\n",
    "from pyspark.ml import Pipeline\n",
    "from pyspark.ml.classification import LogisticRegression, RandomForestClassifier, DecisionTreeClassifier, GBTClassifier\n",
    "from pyspark.ml.evaluation import MulticlassClassificationEvaluator\n",
    "from pyspark.ml.tuning import CrossValidator, ParamGridBuilder\n",
    "\n",
    "# Misc.\n",
    "import datetime as dt\n",
    "import os\n",
    "\n",
    "# Data Viz.\n",
    "import matplotlib.pyplot as plt\n",
    "import seaborn as sns\n",
    "%matplotlib inline\n",
    "\n",
    "pd.set_option(\"display.max_colwidth\",-1)"
   ]
  },
  {
   "cell_type": "code",
   "execution_count": 2,
   "metadata": {
    "ExecuteTime": {
     "end_time": "2020-04-17T23:21:59.337206Z",
     "start_time": "2020-04-17T23:21:59.250358Z"
    }
   },
   "outputs": [
    {
     "data": {
      "text/html": [
       "\n",
       "            <div>\n",
       "                <p><b>SparkSession - hive</b></p>\n",
       "                \n",
       "        <div>\n",
       "            <p><b>SparkContext</b></p>\n",
       "\n",
       "            <p><a href=\"http://192.168.1.14:4040\">Spark UI</a></p>\n",
       "\n",
       "            <dl>\n",
       "              <dt>Version</dt>\n",
       "                <dd><code>v2.4.5</code></dd>\n",
       "              <dt>Master</dt>\n",
       "                <dd><code>local[8]</code></dd>\n",
       "              <dt>AppName</dt>\n",
       "                <dd><code>PySparkShell</code></dd>\n",
       "            </dl>\n",
       "        </div>\n",
       "        \n",
       "            </div>\n",
       "        "
      ],
      "text/plain": [
       "<pyspark.sql.session.SparkSession at 0x7f98b479f350>"
      ]
     },
     "execution_count": 2,
     "metadata": {},
     "output_type": "execute_result"
    }
   ],
   "source": [
    "# create a Spark session\n",
    "spark = (SparkSession\n",
    "         .builder\n",
    "         .appName(\"Capstone project\")\n",
    "         .getOrCreate())\n",
    "spark"
   ]
  },
  {
   "cell_type": "code",
   "execution_count": 3,
   "metadata": {
    "ExecuteTime": {
     "end_time": "2020-04-17T23:22:01.746297Z",
     "start_time": "2020-04-17T23:22:01.743877Z"
    }
   },
   "outputs": [],
   "source": [
    "ROOT_PATH = \"..\""
   ]
  },
  {
   "cell_type": "markdown",
   "metadata": {
    "ExecuteTime": {
     "end_time": "2020-04-16T22:10:17.436892Z",
     "start_time": "2020-04-16T22:10:17.433757Z"
    }
   },
   "source": [
    "# Project overview\n",
    "\n",
    "Sparkify is a rising music streaming service relying on excellent customer experience to thrive.\n",
    "\n",
    "The company business model relies on advertisement for free tier and paid subscription for ad-free service. Hence, ensuring customer satisfaction is key the sucess of the company.\n",
    "\n",
    "To do so, preventing customers from churning by sendoing them just at the right time promotional offers can keep them happ !\n",
    "\n",
    "As data scientist, I will address customer experience by building churn prediciton model that is fed by user log and outputs churn probability. Given almost uniform target distribution (Check further), my evaluation metric will be accuracy.\n"
   ]
  },
  {
   "cell_type": "markdown",
   "metadata": {},
   "source": [
    "# Gather data\n",
    "\n"
   ]
  },
  {
   "cell_type": "code",
   "execution_count": 4,
   "metadata": {
    "ExecuteTime": {
     "end_time": "2020-04-17T23:22:19.460875Z",
     "start_time": "2020-04-17T23:22:04.383974Z"
    }
   },
   "outputs": [],
   "source": [
    "file_path = os.path.join(ROOT_PATH,\"data\",\"raw\",\"mini_sparkify_event_data.json\")\n",
    "user_log = spark.read.json(file_path)"
   ]
  },
  {
   "cell_type": "markdown",
   "metadata": {},
   "source": [
    "# Assess data"
   ]
  },
  {
   "cell_type": "code",
   "execution_count": 5,
   "metadata": {
    "ExecuteTime": {
     "end_time": "2020-04-17T23:22:27.901432Z",
     "start_time": "2020-04-17T23:22:24.426691Z"
    }
   },
   "outputs": [
    {
     "name": "stdout",
     "output_type": "stream",
     "text": [
      "Dataset size: 286500 rows and 18 columns\n",
      "\n",
      "\n",
      "root\n",
      " |-- artist: string (nullable = true)\n",
      " |-- auth: string (nullable = true)\n",
      " |-- firstName: string (nullable = true)\n",
      " |-- gender: string (nullable = true)\n",
      " |-- itemInSession: long (nullable = true)\n",
      " |-- lastName: string (nullable = true)\n",
      " |-- length: double (nullable = true)\n",
      " |-- level: string (nullable = true)\n",
      " |-- location: string (nullable = true)\n",
      " |-- method: string (nullable = true)\n",
      " |-- page: string (nullable = true)\n",
      " |-- registration: long (nullable = true)\n",
      " |-- sessionId: long (nullable = true)\n",
      " |-- song: string (nullable = true)\n",
      " |-- status: long (nullable = true)\n",
      " |-- ts: long (nullable = true)\n",
      " |-- userAgent: string (nullable = true)\n",
      " |-- userId: string (nullable = true)\n",
      "\n"
     ]
    }
   ],
   "source": [
    "# Basic infos\n",
    "n, p = user_log.count(), len(user_log.columns)\n",
    "print(f\"Dataset size: {n} rows and {p} columns\\n\\n\")\n",
    "user_log.printSchema()"
   ]
  },
  {
   "cell_type": "code",
   "execution_count": 6,
   "metadata": {
    "ExecuteTime": {
     "end_time": "2020-04-17T23:22:30.464126Z",
     "start_time": "2020-04-17T23:22:30.269749Z"
    }
   },
   "outputs": [
    {
     "data": {
      "text/html": [
       "<div>\n",
       "<style scoped>\n",
       "    .dataframe tbody tr th:only-of-type {\n",
       "        vertical-align: middle;\n",
       "    }\n",
       "\n",
       "    .dataframe tbody tr th {\n",
       "        vertical-align: top;\n",
       "    }\n",
       "\n",
       "    .dataframe thead th {\n",
       "        text-align: right;\n",
       "    }\n",
       "</style>\n",
       "<table border=\"1\" class=\"dataframe\">\n",
       "  <thead>\n",
       "    <tr style=\"text-align: right;\">\n",
       "      <th></th>\n",
       "      <th>feature</th>\n",
       "      <th>description</th>\n",
       "    </tr>\n",
       "  </thead>\n",
       "  <tbody>\n",
       "    <tr>\n",
       "      <th>0</th>\n",
       "      <td>artist</td>\n",
       "      <td>Artist name of the played song</td>\n",
       "    </tr>\n",
       "    <tr>\n",
       "      <th>1</th>\n",
       "      <td>auth</td>\n",
       "      <td>Authentification status among: Logged Out, Cancelled, Guest, Logged In</td>\n",
       "    </tr>\n",
       "    <tr>\n",
       "      <th>2</th>\n",
       "      <td>firstName</td>\n",
       "      <td>user first name</td>\n",
       "    </tr>\n",
       "    <tr>\n",
       "      <th>3</th>\n",
       "      <td>gender</td>\n",
       "      <td>user gender</td>\n",
       "    </tr>\n",
       "    <tr>\n",
       "      <th>4</th>\n",
       "      <td>itemInSession</td>\n",
       "      <td>Indentifier of user actions history within a session: listen to song, upvote, down vote, ...</td>\n",
       "    </tr>\n",
       "    <tr>\n",
       "      <th>5</th>\n",
       "      <td>lastName</td>\n",
       "      <td>user last name</td>\n",
       "    </tr>\n",
       "    <tr>\n",
       "      <th>6</th>\n",
       "      <td>length</td>\n",
       "      <td>Duration of visit of the page</td>\n",
       "    </tr>\n",
       "    <tr>\n",
       "      <th>7</th>\n",
       "      <td>level</td>\n",
       "      <td>Level of subscription</td>\n",
       "    </tr>\n",
       "    <tr>\n",
       "      <th>8</th>\n",
       "      <td>location</td>\n",
       "      <td>user location</td>\n",
       "    </tr>\n",
       "    <tr>\n",
       "      <th>9</th>\n",
       "      <td>method</td>\n",
       "      <td>HTTP method</td>\n",
       "    </tr>\n",
       "    <tr>\n",
       "      <th>10</th>\n",
       "      <td>page</td>\n",
       "      <td>Visited page</td>\n",
       "    </tr>\n",
       "    <tr>\n",
       "      <th>11</th>\n",
       "      <td>registration</td>\n",
       "      <td>Timestamp of user registration</td>\n",
       "    </tr>\n",
       "    <tr>\n",
       "      <th>12</th>\n",
       "      <td>sessionId</td>\n",
       "      <td>Session id</td>\n",
       "    </tr>\n",
       "    <tr>\n",
       "      <th>13</th>\n",
       "      <td>song</td>\n",
       "      <td>song title</td>\n",
       "    </tr>\n",
       "    <tr>\n",
       "      <th>14</th>\n",
       "      <td>status</td>\n",
       "      <td>HTTPS request status</td>\n",
       "    </tr>\n",
       "    <tr>\n",
       "      <th>15</th>\n",
       "      <td>ts</td>\n",
       "      <td>Timestamp of page visit</td>\n",
       "    </tr>\n",
       "    <tr>\n",
       "      <th>16</th>\n",
       "      <td>userAgent</td>\n",
       "      <td>Identifier of web browser client sending the request</td>\n",
       "    </tr>\n",
       "    <tr>\n",
       "      <th>17</th>\n",
       "      <td>userId</td>\n",
       "      <td>User identifier, howeever it is not unique</td>\n",
       "    </tr>\n",
       "  </tbody>\n",
       "</table>\n",
       "</div>"
      ],
      "text/plain": [
       "          feature  \\\n",
       "0   artist          \n",
       "1   auth            \n",
       "2   firstName       \n",
       "3   gender          \n",
       "4   itemInSession   \n",
       "5   lastName        \n",
       "6   length          \n",
       "7   level           \n",
       "8   location        \n",
       "9   method          \n",
       "10  page            \n",
       "11  registration    \n",
       "12  sessionId       \n",
       "13  song            \n",
       "14  status          \n",
       "15  ts              \n",
       "16  userAgent       \n",
       "17  userId          \n",
       "\n",
       "                                                                                      description  \n",
       "0   Artist name of the played song                                                                 \n",
       "1   Authentification status among: Logged Out, Cancelled, Guest, Logged In                         \n",
       "2   user first name                                                                                \n",
       "3   user gender                                                                                    \n",
       "4   Indentifier of user actions history within a session: listen to song, upvote, down vote, ...   \n",
       "5   user last name                                                                                 \n",
       "6   Duration of visit of the page                                                                  \n",
       "7   Level of subscription                                                                          \n",
       "8   user location                                                                                  \n",
       "9   HTTP method                                                                                    \n",
       "10  Visited page                                                                                   \n",
       "11  Timestamp of user registration                                                                 \n",
       "12  Session id                                                                                     \n",
       "13  song title                                                                                     \n",
       "14  HTTPS request status                                                                           \n",
       "15  Timestamp of page visit                                                                        \n",
       "16  Identifier of web browser client sending the request                                           \n",
       "17  User identifier, howeever it is not unique                                                     "
      ]
     },
     "execution_count": 6,
     "metadata": {},
     "output_type": "execute_result"
    }
   ],
   "source": [
    "# Features description\n",
    "meta_data = [('artist', 'Artist name of the played song'),\n",
    "             ('auth', 'Authentification status among: Logged Out, Cancelled, Guest, Logged In'),\n",
    "             ('firstName', 'user first name'),\n",
    "             ('gender', \"user gender\"),\n",
    "             ('itemInSession',\"Indentifier of user actions history within a session: listen to song, upvote, down vote, ... \"),\n",
    "             ('lastName', 'user last name'),\n",
    "             ('length', \"Duration of visit of the page\"),('level',\"Level of subscription\"),\n",
    "             ('location',\"user location\"),\n",
    "             ('method', \"HTTP method\"),\n",
    "             ('page',\"Visited page\"),\n",
    "             ('registration',\"Timestamp of user registration\"),\n",
    "             ('sessionId', \"Session id\"),\n",
    "             ('song', \"song title\"),\n",
    "             ('status',\"HTTPS request status\"),\n",
    "             ('ts', \"Timestamp of page visit\"),\n",
    "             ('userAgent',\"Identifier of web browser client sending the request\"),\n",
    "             ('userId', \"User identifier, howeever it is not unique\")]\n",
    "\n",
    "meta_data = pd.DataFrame(meta_data,columns=[\"feature\", \"description\"])\n",
    "meta_data.to_csv(os.path.join(ROOT_PATH,\"data\",\"raw\",\"meta_data.csv\"),index=False)\n",
    "meta_data"
   ]
  },
  {
   "cell_type": "code",
   "execution_count": 8,
   "metadata": {
    "ExecuteTime": {
     "end_time": "2020-04-17T23:22:51.289763Z",
     "start_time": "2020-04-17T23:22:51.253244Z"
    }
   },
   "outputs": [],
   "source": [
    "def summarize(df):\n",
    "\n",
    "    \"\"\"\n",
    "    Compute basic stats for df\n",
    "    \n",
    "    Args:\n",
    "    df: Spark DataFrame\n",
    "    \n",
    "    Returns:\n",
    "    summary: Pandas DataFrame: basic statistics:\n",
    "        - n_uniques: Number of unique values\n",
    "        - n_missing: Number of missing values\n",
    "        - F.agg_fun(length): agg.func applied to length of extracted strings\n",
    "    \"\"\"\n",
    "    \n",
    "    features = [feature for feature, _ in df.drop(\"value\").dtypes]\n",
    "    types = [feat_type for _, feat_type in df.drop(\"value\").dtypes]\n",
    "    \n",
    "    summary = {\"type\":[],\"n_uniques\":[],\"n_missing\":[]}\n",
    "    summary = pd.DataFrame(summary)    \n",
    "    len_udf = F.udf(lambda x: len(x), IntegerType())\n",
    "    null_udf = F.udf(lambda x: None if x in (\"\",\"-\",'\"-\"') else x)\n",
    "        \n",
    "    for feature in features:\n",
    "        \n",
    "        summary.loc[feature,'n_uniques'] = (df\n",
    "                                            .select(feature)\n",
    "                                            .dropDuplicates()\n",
    "                                            .count())\n",
    "        \n",
    "        summary.loc[feature,'n_missing'] = (df\n",
    "                                            .select(feature)\n",
    "                                            .withColumn(feature, null_udf(feature))\n",
    "                                            .where(F.col(feature).isNull())\n",
    "                                            .count())\n",
    "        \n",
    "    summary[\"type\"] = types\n",
    "\n",
    "    return summary\n",
    "\n",
    "def sample(df,n=10):\n",
    "    \"\"\"\n",
    "    Sample a Spark dataframe and dsiplay it as a pd.DataFrame for better rendering\n",
    "    Args:\n",
    "        df: Spark Datafram\n",
    "    returns:\n",
    "        df_pd: pd.DataFrame\n",
    "    \"\"\"\n",
    "    \n",
    "    df_pd = spark.sparkContext.parallelize(df.take(n)).toDF().toPandas()\n",
    "    \n",
    "    return df_pd"
   ]
  },
  {
   "cell_type": "code",
   "execution_count": 9,
   "metadata": {
    "ExecuteTime": {
     "end_time": "2020-04-17T23:22:54.472467Z",
     "start_time": "2020-04-17T23:22:51.913423Z"
    }
   },
   "outputs": [
    {
     "data": {
      "text/html": [
       "<div>\n",
       "<style scoped>\n",
       "    .dataframe tbody tr th:only-of-type {\n",
       "        vertical-align: middle;\n",
       "    }\n",
       "\n",
       "    .dataframe tbody tr th {\n",
       "        vertical-align: top;\n",
       "    }\n",
       "\n",
       "    .dataframe thead th {\n",
       "        text-align: right;\n",
       "    }\n",
       "</style>\n",
       "<table border=\"1\" class=\"dataframe\">\n",
       "  <thead>\n",
       "    <tr style=\"text-align: right;\">\n",
       "      <th></th>\n",
       "      <th>artist</th>\n",
       "      <th>auth</th>\n",
       "      <th>firstName</th>\n",
       "      <th>gender</th>\n",
       "      <th>itemInSession</th>\n",
       "      <th>lastName</th>\n",
       "      <th>length</th>\n",
       "      <th>level</th>\n",
       "      <th>location</th>\n",
       "      <th>method</th>\n",
       "      <th>page</th>\n",
       "      <th>registration</th>\n",
       "      <th>sessionId</th>\n",
       "      <th>song</th>\n",
       "      <th>status</th>\n",
       "      <th>ts</th>\n",
       "      <th>userAgent</th>\n",
       "      <th>userId</th>\n",
       "    </tr>\n",
       "  </thead>\n",
       "  <tbody>\n",
       "    <tr>\n",
       "      <th>0</th>\n",
       "      <td>Martha Tilston</td>\n",
       "      <td>Logged In</td>\n",
       "      <td>Colin</td>\n",
       "      <td>M</td>\n",
       "      <td>50</td>\n",
       "      <td>Freeman</td>\n",
       "      <td>277.89016</td>\n",
       "      <td>paid</td>\n",
       "      <td>Bakersfield, CA</td>\n",
       "      <td>PUT</td>\n",
       "      <td>NextSong</td>\n",
       "      <td>1538173362000</td>\n",
       "      <td>29</td>\n",
       "      <td>Rockpools</td>\n",
       "      <td>200</td>\n",
       "      <td>1538352117000</td>\n",
       "      <td>Mozilla/5.0 (Windows NT 6.1; WOW64; rv:31.0) Gecko/20100101 Firefox/31.0</td>\n",
       "      <td>30</td>\n",
       "    </tr>\n",
       "    <tr>\n",
       "      <th>1</th>\n",
       "      <td>Five Iron Frenzy</td>\n",
       "      <td>Logged In</td>\n",
       "      <td>Micah</td>\n",
       "      <td>M</td>\n",
       "      <td>79</td>\n",
       "      <td>Long</td>\n",
       "      <td>236.09424</td>\n",
       "      <td>free</td>\n",
       "      <td>Boston-Cambridge-Newton, MA-NH</td>\n",
       "      <td>PUT</td>\n",
       "      <td>NextSong</td>\n",
       "      <td>1538331630000</td>\n",
       "      <td>8</td>\n",
       "      <td>Canada</td>\n",
       "      <td>200</td>\n",
       "      <td>1538352180000</td>\n",
       "      <td>\"Mozilla/5.0 (Windows NT 6.1; WOW64) AppleWebKit/537.36 (KHTML, like Gecko) Chrome/37.0.2062.103 Safari/537.36\"</td>\n",
       "      <td>9</td>\n",
       "    </tr>\n",
       "    <tr>\n",
       "      <th>2</th>\n",
       "      <td>Adam Lambert</td>\n",
       "      <td>Logged In</td>\n",
       "      <td>Colin</td>\n",
       "      <td>M</td>\n",
       "      <td>51</td>\n",
       "      <td>Freeman</td>\n",
       "      <td>282.82730</td>\n",
       "      <td>paid</td>\n",
       "      <td>Bakersfield, CA</td>\n",
       "      <td>PUT</td>\n",
       "      <td>NextSong</td>\n",
       "      <td>1538173362000</td>\n",
       "      <td>29</td>\n",
       "      <td>Time For Miracles</td>\n",
       "      <td>200</td>\n",
       "      <td>1538352394000</td>\n",
       "      <td>Mozilla/5.0 (Windows NT 6.1; WOW64; rv:31.0) Gecko/20100101 Firefox/31.0</td>\n",
       "      <td>30</td>\n",
       "    </tr>\n",
       "    <tr>\n",
       "      <th>3</th>\n",
       "      <td>Enigma</td>\n",
       "      <td>Logged In</td>\n",
       "      <td>Micah</td>\n",
       "      <td>M</td>\n",
       "      <td>80</td>\n",
       "      <td>Long</td>\n",
       "      <td>262.71302</td>\n",
       "      <td>free</td>\n",
       "      <td>Boston-Cambridge-Newton, MA-NH</td>\n",
       "      <td>PUT</td>\n",
       "      <td>NextSong</td>\n",
       "      <td>1538331630000</td>\n",
       "      <td>8</td>\n",
       "      <td>Knocking On Forbidden Doors</td>\n",
       "      <td>200</td>\n",
       "      <td>1538352416000</td>\n",
       "      <td>\"Mozilla/5.0 (Windows NT 6.1; WOW64) AppleWebKit/537.36 (KHTML, like Gecko) Chrome/37.0.2062.103 Safari/537.36\"</td>\n",
       "      <td>9</td>\n",
       "    </tr>\n",
       "    <tr>\n",
       "      <th>4</th>\n",
       "      <td>Daft Punk</td>\n",
       "      <td>Logged In</td>\n",
       "      <td>Colin</td>\n",
       "      <td>M</td>\n",
       "      <td>52</td>\n",
       "      <td>Freeman</td>\n",
       "      <td>223.60771</td>\n",
       "      <td>paid</td>\n",
       "      <td>Bakersfield, CA</td>\n",
       "      <td>PUT</td>\n",
       "      <td>NextSong</td>\n",
       "      <td>1538173362000</td>\n",
       "      <td>29</td>\n",
       "      <td>Harder Better Faster Stronger</td>\n",
       "      <td>200</td>\n",
       "      <td>1538352676000</td>\n",
       "      <td>Mozilla/5.0 (Windows NT 6.1; WOW64; rv:31.0) Gecko/20100101 Firefox/31.0</td>\n",
       "      <td>30</td>\n",
       "    </tr>\n",
       "    <tr>\n",
       "      <th>5</th>\n",
       "      <td>The All-American Rejects</td>\n",
       "      <td>Logged In</td>\n",
       "      <td>Micah</td>\n",
       "      <td>M</td>\n",
       "      <td>81</td>\n",
       "      <td>Long</td>\n",
       "      <td>208.29995</td>\n",
       "      <td>free</td>\n",
       "      <td>Boston-Cambridge-Newton, MA-NH</td>\n",
       "      <td>PUT</td>\n",
       "      <td>NextSong</td>\n",
       "      <td>1538331630000</td>\n",
       "      <td>8</td>\n",
       "      <td>Don't Leave Me</td>\n",
       "      <td>200</td>\n",
       "      <td>1538352678000</td>\n",
       "      <td>\"Mozilla/5.0 (Windows NT 6.1; WOW64) AppleWebKit/537.36 (KHTML, like Gecko) Chrome/37.0.2062.103 Safari/537.36\"</td>\n",
       "      <td>9</td>\n",
       "    </tr>\n",
       "    <tr>\n",
       "      <th>6</th>\n",
       "      <td>The Velvet Underground / Nico</td>\n",
       "      <td>Logged In</td>\n",
       "      <td>Micah</td>\n",
       "      <td>M</td>\n",
       "      <td>82</td>\n",
       "      <td>Long</td>\n",
       "      <td>260.46649</td>\n",
       "      <td>free</td>\n",
       "      <td>Boston-Cambridge-Newton, MA-NH</td>\n",
       "      <td>PUT</td>\n",
       "      <td>NextSong</td>\n",
       "      <td>1538331630000</td>\n",
       "      <td>8</td>\n",
       "      <td>Run Run Run</td>\n",
       "      <td>200</td>\n",
       "      <td>1538352886000</td>\n",
       "      <td>\"Mozilla/5.0 (Windows NT 6.1; WOW64) AppleWebKit/537.36 (KHTML, like Gecko) Chrome/37.0.2062.103 Safari/537.36\"</td>\n",
       "      <td>9</td>\n",
       "    </tr>\n",
       "    <tr>\n",
       "      <th>7</th>\n",
       "      <td>Starflyer 59</td>\n",
       "      <td>Logged In</td>\n",
       "      <td>Colin</td>\n",
       "      <td>M</td>\n",
       "      <td>53</td>\n",
       "      <td>Freeman</td>\n",
       "      <td>185.44281</td>\n",
       "      <td>paid</td>\n",
       "      <td>Bakersfield, CA</td>\n",
       "      <td>PUT</td>\n",
       "      <td>NextSong</td>\n",
       "      <td>1538173362000</td>\n",
       "      <td>29</td>\n",
       "      <td>Passengers (Old Album Version)</td>\n",
       "      <td>200</td>\n",
       "      <td>1538352899000</td>\n",
       "      <td>Mozilla/5.0 (Windows NT 6.1; WOW64; rv:31.0) Gecko/20100101 Firefox/31.0</td>\n",
       "      <td>30</td>\n",
       "    </tr>\n",
       "    <tr>\n",
       "      <th>8</th>\n",
       "      <td>None</td>\n",
       "      <td>Logged In</td>\n",
       "      <td>Colin</td>\n",
       "      <td>M</td>\n",
       "      <td>54</td>\n",
       "      <td>Freeman</td>\n",
       "      <td>NaN</td>\n",
       "      <td>paid</td>\n",
       "      <td>Bakersfield, CA</td>\n",
       "      <td>PUT</td>\n",
       "      <td>Add to Playlist</td>\n",
       "      <td>1538173362000</td>\n",
       "      <td>29</td>\n",
       "      <td>None</td>\n",
       "      <td>200</td>\n",
       "      <td>1538352905000</td>\n",
       "      <td>Mozilla/5.0 (Windows NT 6.1; WOW64; rv:31.0) Gecko/20100101 Firefox/31.0</td>\n",
       "      <td>30</td>\n",
       "    </tr>\n",
       "    <tr>\n",
       "      <th>9</th>\n",
       "      <td>Frumpies</td>\n",
       "      <td>Logged In</td>\n",
       "      <td>Colin</td>\n",
       "      <td>M</td>\n",
       "      <td>55</td>\n",
       "      <td>Freeman</td>\n",
       "      <td>134.47791</td>\n",
       "      <td>paid</td>\n",
       "      <td>Bakersfield, CA</td>\n",
       "      <td>PUT</td>\n",
       "      <td>NextSong</td>\n",
       "      <td>1538173362000</td>\n",
       "      <td>29</td>\n",
       "      <td>Fuck Kitty</td>\n",
       "      <td>200</td>\n",
       "      <td>1538353084000</td>\n",
       "      <td>Mozilla/5.0 (Windows NT 6.1; WOW64; rv:31.0) Gecko/20100101 Firefox/31.0</td>\n",
       "      <td>30</td>\n",
       "    </tr>\n",
       "  </tbody>\n",
       "</table>\n",
       "</div>"
      ],
      "text/plain": [
       "                          artist       auth firstName gender  itemInSession  \\\n",
       "0  Martha Tilston                 Logged In  Colin     M      50              \n",
       "1  Five Iron Frenzy               Logged In  Micah     M      79              \n",
       "2  Adam Lambert                   Logged In  Colin     M      51              \n",
       "3  Enigma                         Logged In  Micah     M      80              \n",
       "4  Daft Punk                      Logged In  Colin     M      52              \n",
       "5  The All-American Rejects       Logged In  Micah     M      81              \n",
       "6  The Velvet Underground / Nico  Logged In  Micah     M      82              \n",
       "7  Starflyer 59                   Logged In  Colin     M      53              \n",
       "8  None                           Logged In  Colin     M      54              \n",
       "9  Frumpies                       Logged In  Colin     M      55              \n",
       "\n",
       "  lastName     length level                        location method  \\\n",
       "0  Freeman  277.89016  paid  Bakersfield, CA                 PUT     \n",
       "1  Long     236.09424  free  Boston-Cambridge-Newton, MA-NH  PUT     \n",
       "2  Freeman  282.82730  paid  Bakersfield, CA                 PUT     \n",
       "3  Long     262.71302  free  Boston-Cambridge-Newton, MA-NH  PUT     \n",
       "4  Freeman  223.60771  paid  Bakersfield, CA                 PUT     \n",
       "5  Long     208.29995  free  Boston-Cambridge-Newton, MA-NH  PUT     \n",
       "6  Long     260.46649  free  Boston-Cambridge-Newton, MA-NH  PUT     \n",
       "7  Freeman  185.44281  paid  Bakersfield, CA                 PUT     \n",
       "8  Freeman NaN         paid  Bakersfield, CA                 PUT     \n",
       "9  Freeman  134.47791  paid  Bakersfield, CA                 PUT     \n",
       "\n",
       "              page   registration  sessionId                            song  \\\n",
       "0  NextSong         1538173362000  29         Rockpools                        \n",
       "1  NextSong         1538331630000  8          Canada                           \n",
       "2  NextSong         1538173362000  29         Time For Miracles                \n",
       "3  NextSong         1538331630000  8          Knocking On Forbidden Doors      \n",
       "4  NextSong         1538173362000  29         Harder Better Faster Stronger    \n",
       "5  NextSong         1538331630000  8          Don't Leave Me                   \n",
       "6  NextSong         1538331630000  8          Run Run Run                      \n",
       "7  NextSong         1538173362000  29         Passengers (Old Album Version)   \n",
       "8  Add to Playlist  1538173362000  29         None                             \n",
       "9  NextSong         1538173362000  29         Fuck Kitty                       \n",
       "\n",
       "   status             ts  \\\n",
       "0  200     1538352117000   \n",
       "1  200     1538352180000   \n",
       "2  200     1538352394000   \n",
       "3  200     1538352416000   \n",
       "4  200     1538352676000   \n",
       "5  200     1538352678000   \n",
       "6  200     1538352886000   \n",
       "7  200     1538352899000   \n",
       "8  200     1538352905000   \n",
       "9  200     1538353084000   \n",
       "\n",
       "                                                                                                         userAgent  \\\n",
       "0  Mozilla/5.0 (Windows NT 6.1; WOW64; rv:31.0) Gecko/20100101 Firefox/31.0                                          \n",
       "1  \"Mozilla/5.0 (Windows NT 6.1; WOW64) AppleWebKit/537.36 (KHTML, like Gecko) Chrome/37.0.2062.103 Safari/537.36\"   \n",
       "2  Mozilla/5.0 (Windows NT 6.1; WOW64; rv:31.0) Gecko/20100101 Firefox/31.0                                          \n",
       "3  \"Mozilla/5.0 (Windows NT 6.1; WOW64) AppleWebKit/537.36 (KHTML, like Gecko) Chrome/37.0.2062.103 Safari/537.36\"   \n",
       "4  Mozilla/5.0 (Windows NT 6.1; WOW64; rv:31.0) Gecko/20100101 Firefox/31.0                                          \n",
       "5  \"Mozilla/5.0 (Windows NT 6.1; WOW64) AppleWebKit/537.36 (KHTML, like Gecko) Chrome/37.0.2062.103 Safari/537.36\"   \n",
       "6  \"Mozilla/5.0 (Windows NT 6.1; WOW64) AppleWebKit/537.36 (KHTML, like Gecko) Chrome/37.0.2062.103 Safari/537.36\"   \n",
       "7  Mozilla/5.0 (Windows NT 6.1; WOW64; rv:31.0) Gecko/20100101 Firefox/31.0                                          \n",
       "8  Mozilla/5.0 (Windows NT 6.1; WOW64; rv:31.0) Gecko/20100101 Firefox/31.0                                          \n",
       "9  Mozilla/5.0 (Windows NT 6.1; WOW64; rv:31.0) Gecko/20100101 Firefox/31.0                                          \n",
       "\n",
       "  userId  \n",
       "0  30     \n",
       "1  9      \n",
       "2  30     \n",
       "3  9      \n",
       "4  30     \n",
       "5  9      \n",
       "6  9      \n",
       "7  30     \n",
       "8  30     \n",
       "9  30     "
      ]
     },
     "execution_count": 9,
     "metadata": {},
     "output_type": "execute_result"
    }
   ],
   "source": [
    "sample(user_log)"
   ]
  },
  {
   "cell_type": "code",
   "execution_count": 10,
   "metadata": {
    "ExecuteTime": {
     "end_time": "2020-04-17T23:24:28.546450Z",
     "start_time": "2020-04-17T23:22:59.453513Z"
    }
   },
   "outputs": [
    {
     "name": "stdout",
     "output_type": "stream",
     "text": [
      "CPU times: user 341 ms, sys: 42.6 ms, total: 384 ms\n",
      "Wall time: 1min 29s\n"
     ]
    }
   ],
   "source": [
    "%%time\n",
    "summary = summarize(user_log)"
   ]
  },
  {
   "cell_type": "markdown",
   "metadata": {},
   "source": [
    "## Displaying features values"
   ]
  },
  {
   "cell_type": "code",
   "execution_count": 11,
   "metadata": {
    "ExecuteTime": {
     "end_time": "2020-04-17T23:29:30.314981Z",
     "start_time": "2020-04-17T23:29:27.321897Z"
    }
   },
   "outputs": [
    {
     "name": "stdout",
     "output_type": "stream",
     "text": [
      "\n",
      "Unique values for feature 'auth'\n",
      "['Logged Out', 'Cancelled', 'Guest', 'Logged In']\n",
      "\n",
      "Unique values for feature 'gender'\n",
      "['F', None, 'M']\n",
      "\n",
      "Unique values for feature 'level'\n",
      "['free', 'paid']\n",
      "\n",
      "Unique values for feature 'method'\n",
      "['PUT', 'GET']\n",
      "\n",
      "Unique values for feature 'page'\n",
      "['Cancel', 'Submit Downgrade', 'Thumbs Down', 'Home', 'Downgrade', 'Roll Advert', 'Logout', 'Save Settings', 'Cancellation Confirmation', 'About', 'Submit Registration', 'Settings', 'Login', 'Register', 'Add to Playlist', 'Add Friend', 'NextSong', 'Thumbs Up', 'Help', 'Upgrade', 'Error', 'Submit Upgrade']\n",
      "\n",
      "Unique values for feature 'status'\n",
      "[307, 404, 200]\n"
     ]
    }
   ],
   "source": [
    "# Let's examine unique values for some features\n",
    "for feature in summary.index:\n",
    "    \n",
    "    if summary.loc[feature,\"n_uniques\"] <= 30:\n",
    "        print(f\"\\nUnique values for feature '{feature}'\")\n",
    "        values = user_log.select(feature).dropDuplicates().collect()\n",
    "        values = [val[feature] for val in values]\n",
    "        print(values)"
   ]
  },
  {
   "cell_type": "markdown",
   "metadata": {},
   "source": [
    "## Investigating missing values"
   ]
  },
  {
   "cell_type": "code",
   "execution_count": 12,
   "metadata": {
    "ExecuteTime": {
     "end_time": "2020-04-17T23:29:34.283224Z",
     "start_time": "2020-04-17T23:29:33.613546Z"
    }
   },
   "outputs": [
    {
     "data": {
      "image/png": "[encoded data removed]",
      "text/plain": [
       "<Figure size 432x288 with 1 Axes>"
      ]
     },
     "metadata": {
      "needs_background": "light"
     },
     "output_type": "display_data"
    }
   ],
   "source": [
    "# Plotting features missing values stats\n",
    "data = summary.sort_values(by=\"n_missing\")\n",
    "plt.figure(figsize=(6,4))\n",
    "plt.barh(data.index,data.n_missing)\n",
    "plt.title(f\"Missing value stats\")\n",
    "plt.xlabel(\"Count\")\n",
    "plt.savefig(os.path.join(ROOT_PATH,\"figures\",\"missing_value_stats.png\"),bbox_inches=\"tight\")\n",
    "plt.show()"
   ]
  },
  {
   "cell_type": "code",
   "execution_count": 13,
   "metadata": {
    "ExecuteTime": {
     "end_time": "2020-04-17T23:29:45.065613Z",
     "start_time": "2020-04-17T23:29:36.247355Z"
    }
   },
   "outputs": [
    {
     "name": "stdout",
     "output_type": "stream",
     "text": [
      "+-------------------+\n",
      "|               page|\n",
      "+-------------------+\n",
      "|               Home|\n",
      "|              About|\n",
      "|Submit Registration|\n",
      "|              Login|\n",
      "|           Register|\n",
      "|               Help|\n",
      "|              Error|\n",
      "+-------------------+\n",
      "\n",
      "+----------+\n",
      "|      auth|\n",
      "+----------+\n",
      "|Logged Out|\n",
      "|     Guest|\n",
      "+----------+\n",
      "\n",
      "+----+--------------------+\n",
      "|song|                page|\n",
      "+----+--------------------+\n",
      "|null|              Cancel|\n",
      "|null|    Submit Downgrade|\n",
      "|null|         Thumbs Down|\n",
      "|null|                Home|\n",
      "|null|           Downgrade|\n",
      "|null|         Roll Advert|\n",
      "|null|              Logout|\n",
      "|null|       Save Settings|\n",
      "|null|Cancellation Conf...|\n",
      "|null|               About|\n",
      "|null| Submit Registration|\n",
      "|null|            Settings|\n",
      "|null|               Login|\n",
      "|null|            Register|\n",
      "|null|     Add to Playlist|\n",
      "|null|          Add Friend|\n",
      "|null|           Thumbs Up|\n",
      "|null|                Help|\n",
      "|null|             Upgrade|\n",
      "|null|               Error|\n",
      "|null|      Submit Upgrade|\n",
      "+----+--------------------+\n",
      "\n",
      "+------+-----+-----+------+\n",
      "|userId|disfn|disln|disloc|\n",
      "+------+-----+-----+------+\n",
      "+------+-----+-----+------+\n",
      "\n",
      "+--------+-----+\n",
      "|physUser|disid|\n",
      "+--------+-----+\n",
      "+--------+-----+\n",
      "\n"
     ]
    }
   ],
   "source": [
    "# Pages corresponding to null user-id\n",
    "(user_log\n",
    " .where(\"userId = ''\")\n",
    " .select(\"page\")\n",
    " .dropDuplicates()\n",
    " .show())\n",
    "\n",
    "# Auth corresponding to null user-id\n",
    "(user_log\n",
    " .where(\"userId = ''\")\n",
    " .select(\"auth\")\n",
    " .dropDuplicates()\n",
    " .show())\n",
    "\n",
    "# Pages corresponding to Null song, artist, length\n",
    "(user_log\n",
    " .select(\"song\",\"page\")\n",
    " .filter(F.col(\"song\").isNull())\n",
    " .dropDuplicates()\n",
    " .show(25)\n",
    ")\n",
    "\n",
    "# Q: Is userId unique per physical user ?\n",
    "# Yes\n",
    "(user_log\n",
    " .where(\"userId != ''\")\n",
    " .select(\"userId\",\"firstName\",\"lastName\",\"location\")\n",
    " .groupBy(\"userId\")\n",
    " .agg(F.countDistinct(\"firstName\").alias(\"disfn\"),\n",
    "      F.countDistinct(\"lastName\").alias(\"disln\"),\n",
    "      F.countDistinct(\"location\").alias(\"disloc\"))\n",
    " .where(\"disfn > 1 or disln > 1 or disloc > 1\")\n",
    " .show()\n",
    ")\n",
    "\n",
    "(user_log\n",
    " .where(\"userId != ''\")\n",
    " .withColumn(\"physUser\", F.concat(\"firstName\", \"lastName\"))\n",
    " .select(\"userId\",\"physUser\")\n",
    " .groupBy(\"physUser\")\n",
    " .agg(F.countDistinct(\"userId\").alias(\"disid\"))\n",
    " .where(\"disid > 1\")\n",
    " .show()\n",
    ")\n",
    "\n"
   ]
  },
  {
   "cell_type": "markdown",
   "metadata": {},
   "source": [
    "__Comment__:\n",
    "\n",
    "\n",
    "The above computations explains the consistent number of missing values for some features:\n",
    "- A missing userId corresponds to either a guest visitor or a logged out user\n",
    "- A missing song corresponds to intermidiate pages that are user event (upvote, downvote, ...)\n",
    "- A non nul user id correspond to unique physical user."
   ]
  },
  {
   "cell_type": "markdown",
   "metadata": {},
   "source": [
    "# Clean data\n",
    "- Filter missing userId and sessionId\n",
    "- drop feature `method`, `userAgent`:\n",
    "    - feature `method`: is related to the type of page which determines __GET__ or __PUT__method used.\n",
    "    - user agent is related to the HTTP client which can be unformative for the given task.\n",
    "    I make an explicit hypotheisi here that customer churn is more related about high level use of the service  \n",
    "- Cast `ts` to datetime\n",
    "- Cast `registration` to datetime\n",
    "- Impute `length` missing value with 0"
   ]
  },
  {
   "cell_type": "code",
   "execution_count": 14,
   "metadata": {
    "ExecuteTime": {
     "end_time": "2020-04-17T23:29:47.024630Z",
     "start_time": "2020-04-17T23:29:47.015997Z"
    }
   },
   "outputs": [],
   "source": [
    "def cast_to_dt(x):\n",
    "    \"\"\"\n",
    "    Convert a datetime string to a string repecting \n",
    "    Spark default timestamp format\n",
    "    \n",
    "    Args: int, ts in milli-seconds\n",
    "    Returns: str\n",
    "    \"\"\"\n",
    "    \n",
    "    x_dt = dt.datetime.fromtimestamp(x / 1000.0)\n",
    "    x_dt = x_dt.strftime(\"%Y-%m-%d %H:%M:%S\")\n",
    "        \n",
    "    return x_dt\n",
    "\n",
    "\n",
    "def clean(raw_logs):\n",
    "    \"\"\"\n",
    "    Clean input dataframe\n",
    "    Args:\n",
    "        raw_logs: spark DataFrame\n",
    "    Return\n",
    "        clean_logs: spark DataFrame, pre-processed datafrale\n",
    "    \"\"\"\n",
    "    \n",
    "    cast_udf = F.udf(cast_to_dt, StringType())\n",
    "    clean_logs = (raw_logs\n",
    "                  .where(\"userId != ''\")\n",
    "                  .withColumn(\"ts\",cast_udf(\"ts\").cast(\"timestamp\"))\n",
    "                  .withColumn(\"registration\",cast_udf(\"registration\").cast(\"timestamp\"))\n",
    "                  .dropna(subset=[\"sessionId\"])\n",
    "                  .drop(\"method\",\"userAgent\")\n",
    "                  .na\n",
    "                  .fill({\"length\":0})\n",
    "                 )\n",
    "    \n",
    "    return clean_logs\n",
    "    "
   ]
  },
  {
   "cell_type": "code",
   "execution_count": 15,
   "metadata": {
    "ExecuteTime": {
     "end_time": "2020-04-17T23:29:49.292016Z",
     "start_time": "2020-04-17T23:29:49.121980Z"
    }
   },
   "outputs": [
    {
     "name": "stdout",
     "output_type": "stream",
     "text": [
      "root\n",
      " |-- artist: string (nullable = true)\n",
      " |-- auth: string (nullable = true)\n",
      " |-- firstName: string (nullable = true)\n",
      " |-- gender: string (nullable = true)\n",
      " |-- itemInSession: long (nullable = true)\n",
      " |-- lastName: string (nullable = true)\n",
      " |-- length: double (nullable = false)\n",
      " |-- level: string (nullable = true)\n",
      " |-- location: string (nullable = true)\n",
      " |-- page: string (nullable = true)\n",
      " |-- registration: timestamp (nullable = true)\n",
      " |-- sessionId: long (nullable = true)\n",
      " |-- song: string (nullable = true)\n",
      " |-- status: long (nullable = true)\n",
      " |-- ts: timestamp (nullable = true)\n",
      " |-- userId: string (nullable = true)\n",
      "\n"
     ]
    }
   ],
   "source": [
    "clean_logs = clean(user_log)\n",
    "clean_logs.printSchema()"
   ]
  },
  {
   "cell_type": "markdown",
   "metadata": {},
   "source": [
    "# Analyze data - EDA"
   ]
  },
  {
   "cell_type": "markdown",
   "metadata": {},
   "source": [
    "- Add churn column defined as either:\n",
    "    - a premium-tier user down-grade their plan.\n",
    "    - a free-tier or premium-tier user cancel his/her subscription.\n",
    "- Compute number of days elapsed from registration to last record `elapsed_days`\n",
    "- Extract state from location\n",
    "- Add mean, min, max, median number of items in session"
   ]
  },
  {
   "cell_type": "code",
   "execution_count": 17,
   "metadata": {
    "ExecuteTime": {
     "end_time": "2020-04-17T23:29:53.721833Z",
     "start_time": "2020-04-17T23:29:53.710125Z"
    }
   },
   "outputs": [],
   "source": [
    "def is_churn(x):\n",
    "    \"\"\"\n",
    "    Dectect churn event based on visited page\n",
    "    Args:\n",
    "        x: str, visited page\n",
    "    Returns:\n",
    "        int: 1 for churn 0 else\n",
    "    \"\"\"\n",
    "    \n",
    "    if x in ('Cancellation Confirmation', 'Submit Downgrade'):\n",
    "        return 1\n",
    "    else:\n",
    "        return 0\n",
    "    \n",
    "    \n",
    "def aggregate(clean_logs):\n",
    "    \"\"\"\n",
    "    Aggregate logs by user for EDA\n",
    "    Args:\n",
    "        clean_logs: Spark DataFrame\n",
    "    Returns\n",
    "        agg_logs: Spark DataFrame\n",
    "    \"\"\"\n",
    "\n",
    "    is_churn_udf = F.udf(is_churn, IntegerType())\n",
    "    get_state_udf = F.udf(lambda x: x.split(\",\")[-1] if \",\" in x else None)\n",
    "\n",
    "    agg_logs = (clean_logs\n",
    "                .withColumn('is_churn',is_churn_udf(\"page\"))\n",
    "                .withColumn('state',get_state_udf(\"location\"))\n",
    "                .withColumn(\"length\",F.col(\"length\")/(1000*60))\n",
    "                .withColumn(\"elapsed_days\", F.datediff(\"ts\",\"registration\"))\n",
    "                .select(\"is_churn\",\"userId\",\"gender\",\"state\",\"song\",\"length\",\"elapsed_days\")\n",
    "                .groupBy(\"userId\")\n",
    "                .agg(F.max(\"is_churn\").alias(\"churn\"),\n",
    "                     F.max(\"state\").alias(\"state\"),\n",
    "                     F.max(\"gender\").alias(\"gender\"),\n",
    "                     F.count(\"song\").alias(\"song_count\"),\n",
    "                     F.sum(\"length\").alias(\"length_sum\"),\n",
    "                     F.max(\"elapsed_days\").alias(\"elapsed_days\"))\n",
    "               )\n",
    "    return agg_logs"
   ]
  },
  {
   "cell_type": "code",
   "execution_count": 18,
   "metadata": {
    "ExecuteTime": {
     "end_time": "2020-04-17T23:30:01.770784Z",
     "start_time": "2020-04-17T23:29:56.015210Z"
    }
   },
   "outputs": [
    {
     "name": "stdout",
     "output_type": "stream",
     "text": [
      "+------+-----+---------+------+----------+-------------------+------------+\n",
      "|userId|churn|    state|gender|song_count|         length_sum|elapsed_days|\n",
      "+------+-----+---------+------+----------+-------------------+------------+\n",
      "|100010|    0|       CT|     F|       275|       1.1156816225|          55|\n",
      "|200002|    0| IL-IN-WI|     M|       387| 1.5668145990000009|          71|\n",
      "|   125|    1|       TX|     M|         8|0.03481855166666667|          72|\n",
      "|   124|    0|       NJ|     F|      4079|  16.87186821316667|         131|\n",
      "|    51|    1|       KY|     M|      2111|  8.721264046666674|          20|\n",
      "|     7|    0|       WA|     M|       150| 0.6339014516666666|          73|\n",
      "|    15|    0|       WV|     M|      1914|  7.955126763499998|          57|\n",
      "|    54|    1|       WA|     F|      2841| 11.855748658999993|         110|\n",
      "|   155|    0|    MA-NH|     F|       820| 3.3129881983333345|          24|\n",
      "|100014|    1| NY-NJ-PA|     M|       257| 1.1283912013333337|          85|\n",
      "|   132|    0|       CO|     F|      1928|  8.051981730666668|          66|\n",
      "|   154|    0| NY-NJ-PA|     F|        84| 0.3443337318333334|          24|\n",
      "|   101|    1|       CO|     M|      1797|  7.457733577833343|          54|\n",
      "|    11|    1|    RI-MA|     F|       647|  2.661166050666667|         125|\n",
      "|   138|    0| NY-NJ-PA|     M|      2070|  8.540831379333337|          67|\n",
      "|300017|    0|       MI|     F|      3632| 14.956783003500005|          74|\n",
      "|100021|    1|       TX|     M|       230| 0.9605529273333334|          65|\n",
      "|    29|    1|       CA|     M|      3028| 12.575292709500008|          60|\n",
      "|    69|    0|       WI|     F|      1125|  4.767733760666667|          71|\n",
      "|   112|    0|       IN|     M|       215| 0.8843791098333332|          87|\n",
      "+------+-----+---------+------+----------+-------------------+------------+\n",
      "only showing top 20 rows\n",
      "\n"
     ]
    }
   ],
   "source": [
    "agg_logs = aggregate(clean_logs)\n",
    "agg_logs.show()"
   ]
  },
  {
   "cell_type": "markdown",
   "metadata": {},
   "source": [
    "## Univariate analysis"
   ]
  },
  {
   "cell_type": "markdown",
   "metadata": {},
   "source": [
    "### Gender"
   ]
  },
  {
   "cell_type": "code",
   "execution_count": 19,
   "metadata": {
    "ExecuteTime": {
     "end_time": "2020-04-17T23:30:06.503694Z",
     "start_time": "2020-04-17T23:30:04.659443Z"
    }
   },
   "outputs": [
    {
     "data": {
      "image/png": "[encoded data removed]",
      "text/plain": [
       "<Figure size 432x288 with 1 Axes>"
      ]
     },
     "metadata": {
      "needs_background": "light"
     },
     "output_type": "display_data"
    }
   ],
   "source": [
    "feature = \"gender\"\n",
    "data = (agg_logs\n",
    "        .select(feature)\n",
    "        .groupBy(feature)\n",
    "        .count()\n",
    "        .toPandas())\n",
    "\n",
    "plt.figure(figsize=(6,4))\n",
    "plt.bar(data[feature],data[\"count\"])\n",
    "plt.title(f\"Customer gender distribution\")\n",
    "plt.xlabel(\"#\")\n",
    "plt.savefig(os.path.join(ROOT_PATH,\"figures\",f\"uni_{feature}.png\"),bbox_inches=\"tight\")\n",
    "plt.show()"
   ]
  },
  {
   "cell_type": "markdown",
   "metadata": {},
   "source": [
    "### Location"
   ]
  },
  {
   "cell_type": "code",
   "execution_count": 20,
   "metadata": {
    "ExecuteTime": {
     "end_time": "2020-04-17T23:30:11.638178Z",
     "start_time": "2020-04-17T23:30:08.319994Z"
    }
   },
   "outputs": [
    {
     "data": {
      "image/png": "[encoded data removed]",
      "text/plain": [
       "<Figure size 1440x288 with 1 Axes>"
      ]
     },
     "metadata": {
      "needs_background": "light"
     },
     "output_type": "display_data"
    }
   ],
   "source": [
    "feature = \"state\"\n",
    "data = (agg_logs\n",
    "        .select(feature)\n",
    "        .groupBy(feature)\n",
    "        .count()\n",
    "        .sort(F.desc(\"count\"))\n",
    "        .toPandas())\n",
    "\n",
    "plt.figure(figsize=(20,4))\n",
    "plt.bar(data[feature],data[\"count\"])\n",
    "plt.xticks(rotation='vertical')\n",
    "plt.title(f\"Customer location distribution\")\n",
    "plt.ylabel(\"#\")\n",
    "plt.savefig(os.path.join(ROOT_PATH,\"figures\",f\"uni_{feature}.png\"),bbox_inches=\"tight\")\n",
    "plt.show()"
   ]
  },
  {
   "cell_type": "markdown",
   "metadata": {},
   "source": [
    "### Level"
   ]
  },
  {
   "cell_type": "code",
   "execution_count": 21,
   "metadata": {
    "ExecuteTime": {
     "end_time": "2020-04-17T23:30:15.168383Z",
     "start_time": "2020-04-17T23:30:13.573874Z"
    }
   },
   "outputs": [
    {
     "data": {
      "image/png": "[encoded data removed]",
      "text/plain": [
       "<Figure size 432x288 with 1 Axes>"
      ]
     },
     "metadata": {
      "needs_background": "light"
     },
     "output_type": "display_data"
    }
   ],
   "source": [
    "feature = \"level\"\n",
    "data = (clean_logs\n",
    "        .select(feature,\"userId\")\n",
    "        .dropDuplicates()\n",
    "        .groupBy(feature)\n",
    "        .count()\n",
    "        .toPandas())\n",
    "\n",
    "plt.figure(figsize=(6,4))\n",
    "plt.bar(data[feature],data[\"count\"])\n",
    "plt.title(f\"Subscription level distribution\")\n",
    "plt.xlabel(\"#\")\n",
    "plt.savefig(os.path.join(ROOT_PATH,\"figures\",f\"uni_{feature}.png\"),bbox_inches=\"tight\")\n",
    "plt.show()"
   ]
  },
  {
   "cell_type": "markdown",
   "metadata": {
    "ExecuteTime": {
     "end_time": "2020-04-17T11:03:21.640911Z",
     "start_time": "2020-04-17T11:03:16.848348Z"
    }
   },
   "source": [
    "## Bi-variate analysis"
   ]
  },
  {
   "cell_type": "markdown",
   "metadata": {},
   "source": [
    "#### Gender vs Churn"
   ]
  },
  {
   "cell_type": "code",
   "execution_count": 22,
   "metadata": {
    "ExecuteTime": {
     "end_time": "2020-04-17T23:30:30.711148Z",
     "start_time": "2020-04-17T23:30:29.183064Z"
    }
   },
   "outputs": [
    {
     "data": {
      "image/png": "[encoded data removed]",
      "text/plain": [
       "<Figure size 432x288 with 1 Axes>"
      ]
     },
     "metadata": {
      "needs_background": "light"
     },
     "output_type": "display_data"
    }
   ],
   "source": [
    "feature = \"gender\"\n",
    "data = agg_logs.select(\"churn\",feature).toPandas()\n",
    "\n",
    "sns.countplot(x=\"gender\",hue=\"churn\", data=data)\n",
    "plt.title(\"Churn across gender\")\n",
    "file_path = os.path.join(ROOT_PATH,\"figures\",f\"bivar_{feature}_churn.png\")\n",
    "plt.savefig(file_path,bbox_inches=\"tight\")\n",
    "plt.show()"
   ]
  },
  {
   "cell_type": "markdown",
   "metadata": {},
   "source": [
    "#### Location vs Churn"
   ]
  },
  {
   "cell_type": "code",
   "execution_count": 23,
   "metadata": {
    "ExecuteTime": {
     "end_time": "2020-04-17T23:30:35.393436Z",
     "start_time": "2020-04-17T23:30:32.245382Z"
    }
   },
   "outputs": [
    {
     "data": {
      "image/png": "[encoded data removed]",
      "text/plain": [
       "<Figure size 864x288 with 1 Axes>"
      ]
     },
     "metadata": {
      "needs_background": "light"
     },
     "output_type": "display_data"
    }
   ],
   "source": [
    "feature = \"state\"\n",
    "plt.figure(figsize=(12,4))\n",
    "data = agg_logs.select(\"churn\",feature).toPandas()\n",
    "\n",
    "\n",
    "sns.countplot(x=feature,hue=\"churn\", data=data)\n",
    "plt.title(\"Churn across states\")\n",
    "plt.xticks(rotation='vertical')\n",
    "file_path = os.path.join(ROOT_PATH,\"figures\",f\"bivar_{feature}_churn.png\")\n",
    "plt.savefig(file_path,bbox_inches=\"tight\")\n",
    "plt.show()"
   ]
  },
  {
   "cell_type": "markdown",
   "metadata": {},
   "source": [
    "#### Song counts vs Churn"
   ]
  },
  {
   "cell_type": "code",
   "execution_count": 24,
   "metadata": {
    "ExecuteTime": {
     "end_time": "2020-04-17T23:30:39.369456Z",
     "start_time": "2020-04-17T23:30:37.174826Z"
    }
   },
   "outputs": [
    {
     "data": {
      "image/png": "[encoded data removed]",
      "text/plain": [
       "<Figure size 432x288 with 1 Axes>"
      ]
     },
     "metadata": {
      "needs_background": "light"
     },
     "output_type": "display_data"
    }
   ],
   "source": [
    "feature = \"song_count\"\n",
    "plt.figure(figsize=(6,4))\n",
    "data = agg_logs.select(\"churn\",feature).toPandas()\n",
    "\n",
    "sns.barplot(x=\"churn\",y = feature, data=data)\n",
    "plt.title(\"Number of played songs vs Churn\")\n",
    "plt.xlabel(\"Is Churning\")\n",
    "plt.ylabel(\"Song counts\")\n",
    "file_path = os.path.join(ROOT_PATH,\"figures\",f\"bivar_{feature}_churn.png\")\n",
    "plt.savefig(file_path,bbox_inches=\"tight\")\n",
    "plt.show()"
   ]
  },
  {
   "cell_type": "markdown",
   "metadata": {},
   "source": [
    "#### Elapsed days vs Churn"
   ]
  },
  {
   "cell_type": "code",
   "execution_count": 25,
   "metadata": {
    "ExecuteTime": {
     "end_time": "2020-04-17T23:30:58.745208Z",
     "start_time": "2020-04-17T23:30:52.786429Z"
    }
   },
   "outputs": [
    {
     "data": {
      "image/png": "[encoded data removed]",
      "text/plain": [
       "<Figure size 432x288 with 1 Axes>"
      ]
     },
     "metadata": {
      "needs_background": "light"
     },
     "output_type": "display_data"
    }
   ],
   "source": [
    "feature = \"elapsed_days\"\n",
    "plt.figure(figsize=(6,4))\n",
    "data = agg_logs.select(\"churn\",feature).toPandas()\n",
    "sns.barplot(x=\"churn\",y = feature, data=data)\n",
    "\n",
    "plt.title(\"Elapsed days since subsc. vs Churn\")\n",
    "plt.xlabel(\"Is Churning\")\n",
    "plt.ylabel(\"Average elapsed days\")\n",
    "file_path = os.path.join(ROOT_PATH,\"figures\",f\"bivar_{feature}_churn.png\")\n",
    "plt.savefig(file_path,bbox_inches=\"tight\")\n",
    "plt.show()"
   ]
  },
  {
   "cell_type": "markdown",
   "metadata": {},
   "source": [
    "__Save intermediate data set__"
   ]
  },
  {
   "cell_type": "code",
   "execution_count": 26,
   "metadata": {
    "ExecuteTime": {
     "end_time": "2020-04-17T23:31:14.201279Z",
     "start_time": "2020-04-17T23:31:01.278706Z"
    }
   },
   "outputs": [],
   "source": [
    "file_path = os.path.join(ROOT_PATH,\"data\",\"processed\",\"agg_logs\")\n",
    "agg_logs.write.mode(\"overwrite\").parquet(file_path)"
   ]
  },
  {
   "cell_type": "markdown",
   "metadata": {},
   "source": [
    "# Model data"
   ]
  },
  {
   "cell_type": "code",
   "execution_count": 27,
   "metadata": {
    "ExecuteTime": {
     "end_time": "2020-04-17T23:31:16.214641Z",
     "start_time": "2020-04-17T23:31:16.206024Z"
    }
   },
   "outputs": [
    {
     "name": "stdout",
     "output_type": "stream",
     "text": [
      "root\n",
      " |-- userId: string (nullable = true)\n",
      " |-- churn: integer (nullable = true)\n",
      " |-- state: string (nullable = true)\n",
      " |-- gender: string (nullable = true)\n",
      " |-- song_count: long (nullable = false)\n",
      " |-- length_sum: double (nullable = true)\n",
      " |-- elapsed_days: integer (nullable = true)\n",
      "\n"
     ]
    }
   ],
   "source": [
    "agg_logs.printSchema()"
   ]
  },
  {
   "cell_type": "code",
   "execution_count": 28,
   "metadata": {
    "ExecuteTime": {
     "end_time": "2020-04-17T23:31:37.099398Z",
     "start_time": "2020-04-17T23:31:19.157791Z"
    }
   },
   "outputs": [],
   "source": [
    "# Let's build a full processing pipeline\n",
    "state_indexer = StringIndexer(inputCol='state', outputCol='state_index')\n",
    "gender_indexer = StringIndexer(inputCol='gender', outputCol='gender_index')\n",
    "\n",
    "assembler = VectorAssembler(inputCols=['state_index', \n",
    "                                       'length_sum',\n",
    "                                       'elapsed_days',\n",
    "                                       'length_sum',\n",
    "                                       'song_count'],\n",
    "                            outputCol='unscaled_features')\n",
    "\n",
    "scaler = StandardScaler(inputCol=\"unscaled_features\", outputCol=\"features\")\n",
    "processing_pipeline = Pipeline(stages=[state_indexer, gender_indexer, assembler, scaler])\n",
    "\n",
    "input_df = (agg_logs\n",
    "            .drop(\"userId\")\n",
    "            .withColumnRenamed(\"churn\", \"label\")\n",
    "           )\n",
    "\n",
    "input_df = (processing_pipeline\n",
    "            .fit(input_df)\n",
    "            .transform(input_df)\n",
    "            .select(\"label\",\"features\")\n",
    "           )\n",
    "\n",
    "# Train, test split\n",
    "train, test = input_df.randomSplit([0.8, 0.2], seed=0)"
   ]
  },
  {
   "cell_type": "code",
   "execution_count": 29,
   "metadata": {
    "ExecuteTime": {
     "end_time": "2020-04-17T23:31:40.627651Z",
     "start_time": "2020-04-17T23:31:40.618776Z"
    }
   },
   "outputs": [
    {
     "name": "stdout",
     "output_type": "stream",
     "text": [
      "root\n",
      " |-- label: integer (nullable = true)\n",
      " |-- features: vector (nullable = true)\n",
      "\n"
     ]
    }
   ],
   "source": [
    "input_df.printSchema()"
   ]
  },
  {
   "cell_type": "code",
   "execution_count": 30,
   "metadata": {
    "ExecuteTime": {
     "end_time": "2020-04-17T23:31:42.300151Z",
     "start_time": "2020-04-17T23:31:42.276656Z"
    }
   },
   "outputs": [],
   "source": [
    "def evalute_algo(algo, train, test):\n",
    "    \"\"\"\n",
    "    Train an ML algorithm on train evaluate it on train and test\n",
    "    Args:\n",
    "        algo: Spark Model\n",
    "        train: Spark dataFrame\n",
    "        test: Spark dataFrame\n",
    "    Returns:\n",
    "        accurarcy_tr, accurarcy_test: float \n",
    "    \"\"\"\n",
    "\n",
    "    model = algo.fit(train)\n",
    "    res_tr = model.transform(train)\n",
    "    res_test = model.transform(test)\n",
    "    evaluator = MulticlassClassificationEvaluator(metricName='accuracy')\n",
    "    accuracy_tr = evaluator.evaluate(res_tr.select(\"label\",\"prediction\"))\n",
    "    accuracy_test = evaluator.evaluate(res_test.select(\"label\",\"prediction\"))\n",
    "\n",
    "    return accuracy_tr, accuracy_test"
   ]
  },
  {
   "cell_type": "code",
   "execution_count": 31,
   "metadata": {
    "ExecuteTime": {
     "end_time": "2020-04-17T23:31:44.365225Z",
     "start_time": "2020-04-17T23:31:44.357296Z"
    }
   },
   "outputs": [],
   "source": [
    "res = {\"algo\":[], \"test_accuracy\":[], \"train_accuracy\":[]}"
   ]
  },
  {
   "cell_type": "markdown",
   "metadata": {},
   "source": [
    "## Model 0: Baseline - Logistic regression"
   ]
  },
  {
   "cell_type": "code",
   "execution_count": 32,
   "metadata": {
    "ExecuteTime": {
     "end_time": "2020-04-17T23:32:41.756618Z",
     "start_time": "2020-04-17T23:31:46.041210Z"
    }
   },
   "outputs": [
    {
     "name": "stdout",
     "output_type": "stream",
     "text": [
      "Train accuracy:\t62.29%\n",
      "Test accuracy:\t72.00%\n"
     ]
    }
   ],
   "source": [
    "algo = \"Logistic Regression\"\n",
    "accuracy_tr, accuracy_test = evalute_algo(LogisticRegression(),train,test)\n",
    "res[\"algo\"].append(algo)\n",
    "res[\"train_accuracy\"].append(accuracy_tr)\n",
    "res[\"test_accuracy\"].append(accuracy_test)\n",
    "print('Train accuracy:\\t{:.2%}'.format(accuracy_tr))\n",
    "print('Test accuracy:\\t{:.2%}'.format(accuracy_test))"
   ]
  },
  {
   "cell_type": "markdown",
   "metadata": {
    "ExecuteTime": {
     "end_time": "2020-04-17T21:19:32.187650Z",
     "start_time": "2020-04-17T21:19:32.183457Z"
    }
   },
   "source": [
    "## Model 1: Decision Tree Classifier"
   ]
  },
  {
   "cell_type": "code",
   "execution_count": 333,
   "metadata": {
    "ExecuteTime": {
     "end_time": "2020-04-17T22:13:41.981000Z",
     "start_time": "2020-04-17T22:13:04.430872Z"
    }
   },
   "outputs": [
    {
     "name": "stdout",
     "output_type": "stream",
     "text": [
      "Train accuracy:\t77.71%\n",
      "Test accuracy:\t62.00%\n"
     ]
    }
   ],
   "source": [
    "algo = \"Decision Tree\"\n",
    "accuracy_tr, accuracy_test = evalute_algo(DecisionTreeClassifier(),train,test)\n",
    "res[\"algo\"].append(algo)\n",
    "res[\"train_accuracy\"].append(accuracy_tr)\n",
    "res[\"test_accuracy\"].append(accuracy_test)\n",
    "print('Train accuracy:\\t{:.2%}'.format(accuracy_tr))\n",
    "print('Test accuracy:\\t{:.2%}'.format(accuracy_test))"
   ]
  },
  {
   "cell_type": "markdown",
   "metadata": {},
   "source": [
    "## Model 2: RandomForrest"
   ]
  },
  {
   "cell_type": "code",
   "execution_count": 334,
   "metadata": {
    "ExecuteTime": {
     "end_time": "2020-04-17T22:14:37.978959Z",
     "start_time": "2020-04-17T22:13:51.292898Z"
    }
   },
   "outputs": [
    {
     "name": "stdout",
     "output_type": "stream",
     "text": [
      "Train accuracy:\t80.57%\n",
      "Test accuracy:\t70.00%\n"
     ]
    }
   ],
   "source": [
    "algo = \"RandomForrest\"\n",
    "accuracy_tr, accuracy_test = evalute_algo(RandomForestClassifier(),train,test)\n",
    "res[\"algo\"].append(algo)\n",
    "res[\"train_accuracy\"].append(accuracy_tr)\n",
    "res[\"test_accuracy\"].append(accuracy_test)\n",
    "print('Train accuracy:\\t{:.2%}'.format(accuracy_tr))\n",
    "print('Test accuracy:\\t{:.2%}'.format(accuracy_test))"
   ]
  },
  {
   "cell_type": "markdown",
   "metadata": {},
   "source": [
    "## Model 3: Gradient Boosted Tree Classifier"
   ]
  },
  {
   "cell_type": "code",
   "execution_count": 335,
   "metadata": {
    "ExecuteTime": {
     "end_time": "2020-04-17T22:17:23.045482Z",
     "start_time": "2020-04-17T22:15:07.901770Z"
    }
   },
   "outputs": [
    {
     "name": "stdout",
     "output_type": "stream",
     "text": [
      "Train accuracy:\t96.57%\n",
      "Test accuracy:\t62.00%\n"
     ]
    }
   ],
   "source": [
    "algo = \"Gradient Boosted Tree Classifier\"\n",
    "accuracy_tr, accuracy_test = evalute_algo(GBTClassifier(),train,test)\n",
    "res[\"algo\"].append(algo)\n",
    "res[\"train_accuracy\"].append(accuracy_tr)\n",
    "res[\"test_accuracy\"].append(accuracy_test)\n",
    "print('Train accuracy:\\t{:.2%}'.format(accuracy_tr))\n",
    "print('Test accuracy:\\t{:.2%}'.format(accuracy_test))"
   ]
  },
  {
   "cell_type": "markdown",
   "metadata": {
    "ExecuteTime": {
     "end_time": "2020-04-17T22:10:32.090218Z",
     "start_time": "2020-04-17T22:10:32.084589Z"
    }
   },
   "source": [
    "## Model comparison"
   ]
  },
  {
   "cell_type": "code",
   "execution_count": 338,
   "metadata": {
    "ExecuteTime": {
     "end_time": "2020-04-17T22:17:57.555899Z",
     "start_time": "2020-04-17T22:17:57.529670Z"
    }
   },
   "outputs": [
    {
     "data": {
      "text/html": [
       "<div>\n",
       "<style scoped>\n",
       "    .dataframe tbody tr th:only-of-type {\n",
       "        vertical-align: middle;\n",
       "    }\n",
       "\n",
       "    .dataframe tbody tr th {\n",
       "        vertical-align: top;\n",
       "    }\n",
       "\n",
       "    .dataframe thead th {\n",
       "        text-align: right;\n",
       "    }\n",
       "</style>\n",
       "<table border=\"1\" class=\"dataframe\">\n",
       "  <thead>\n",
       "    <tr style=\"text-align: right;\">\n",
       "      <th></th>\n",
       "      <th>algo</th>\n",
       "      <th>test_accuracy</th>\n",
       "      <th>train_accuracy</th>\n",
       "    </tr>\n",
       "  </thead>\n",
       "  <tbody>\n",
       "    <tr>\n",
       "      <th>0</th>\n",
       "      <td>Logistic Regression</td>\n",
       "      <td>0.72</td>\n",
       "      <td>0.622857</td>\n",
       "    </tr>\n",
       "    <tr>\n",
       "      <th>1</th>\n",
       "      <td>Decision Tree</td>\n",
       "      <td>0.62</td>\n",
       "      <td>0.777143</td>\n",
       "    </tr>\n",
       "    <tr>\n",
       "      <th>2</th>\n",
       "      <td>RandomForrest</td>\n",
       "      <td>0.70</td>\n",
       "      <td>0.805714</td>\n",
       "    </tr>\n",
       "    <tr>\n",
       "      <th>3</th>\n",
       "      <td>Gradient Boosted Tree Classifier</td>\n",
       "      <td>0.62</td>\n",
       "      <td>0.965714</td>\n",
       "    </tr>\n",
       "  </tbody>\n",
       "</table>\n",
       "</div>"
      ],
      "text/plain": [
       "                               algo  test_accuracy  train_accuracy\n",
       "0  Logistic Regression               0.72           0.622857      \n",
       "1  Decision Tree                     0.62           0.777143      \n",
       "2  RandomForrest                     0.70           0.805714      \n",
       "3  Gradient Boosted Tree Classifier  0.62           0.965714      "
      ]
     },
     "execution_count": 338,
     "metadata": {},
     "output_type": "execute_result"
    }
   ],
   "source": [
    "res = pd.DataFrame(res)\n",
    "res"
   ]
  },
  {
   "cell_type": "markdown",
   "metadata": {},
   "source": [
    "## Hyper-parameters optimization"
   ]
  },
  {
   "cell_type": "code",
   "execution_count": 340,
   "metadata": {
    "ExecuteTime": {
     "end_time": "2020-04-17T22:40:36.458922Z",
     "start_time": "2020-04-17T22:22:41.652502Z"
    }
   },
   "outputs": [
    {
     "name": "stdout",
     "output_type": "stream",
     "text": [
      "Train accuracy:\t97.14%\n",
      "Test accuracy:\t68.00%\n"
     ]
    }
   ],
   "source": [
    "# Let's optimize the best algo by grid search\n",
    "\n",
    "algo = RandomForestClassifier()\n",
    "param_grid = (ParamGridBuilder()\n",
    "              .addGrid(algo.numTrees, [10, 50, 100])\n",
    "              .addGrid(algo.maxDepth, [4, 8, 10])\n",
    "              .build()\n",
    "             )\n",
    "\n",
    "evaluator = MulticlassClassificationEvaluator(metricName='accuracy')\n",
    "model = CrossValidator(estimator = Pipeline(stages=[algo]),\n",
    "                    estimatorParamMaps = param_grid,\n",
    "                    evaluator = evaluator,\n",
    "                    numFolds = 3)\n",
    "\n",
    "cls = model.fit(train)\n",
    "res_tr = cls.transform(train)\n",
    "res_test = cls.transform(test)\n",
    "accuracy_tr = evaluator.evaluate(res_tr.select(\"label\",\"prediction\"))\n",
    "accuracy_test = evaluator.evaluate(res_test.select(\"label\",\"prediction\"))\n",
    "print('Train accuracy:\\t{:.2%}'.format(accuracy_tr))\n",
    "print('Test accuracy:\\t{:.2%}'.format(accuracy_test))\n",
    "\n"
   ]
  },
  {
   "cell_type": "markdown",
   "metadata": {},
   "source": [
    "# Conclusion"
   ]
  },
  {
   "cell_type": "markdown",
   "metadata": {},
   "source": [
    "The model developped in this project is simple yet accurate reaching 70% accuracy on test set. This study was conducted on a small fraction of original data set (~100 larger) but thnaks to the power of Spark framework it can be scaled with minor changes using a cloud provider.\n",
    "\n",
    "For Sparkify, this model is good starting point to use as an early detecion tool for customer churn, yet some further work should be done to imporve it even further. In fact:\n",
    "\n",
    "- Scaled to the larger version 12GB to check if the insights gained here for (~250 customers) generalize well to othe one. To do so, a good test set, would be the remainng data and to compare the model accuracy obtained here with the fresh data.\n",
    "\n",
    "- This model should be retrained frequently\n",
    "\n",
    "- The model predictions can be further investigated by checking feature importance.\n",
    "\n",
    "What I gained from this project, is valuable hands-on knowledge of a new business domain, i.e digital marketing but also I really enjoyed the Spark course a lot and I am exited to put these findings in practice in real world projects. Thanks UDACITY !!!\n"
   ]
  }
 ],
 "metadata": {
  "kernelspec": {
   "display_name": "Python 3",
   "language": "python",
   "name": "python3"
  },
  "language_info": {
   "codemirror_mode": {
    "name": "ipython",
    "version": 3
   },
   "file_extension": ".py",
   "mimetype": "text/x-python",
   "name": "python",
   "nbconvert_exporter": "python",
   "pygments_lexer": "ipython3",
   "version": "3.7.4"
  },
  "toc": {
   "base_numbering": 1,
   "nav_menu": {},
   "number_sections": false,
   "sideBar": true,
   "skip_h1_title": false,
   "title_cell": "Table of Contents",
   "title_sidebar": "Contents",
   "toc_cell": false,
   "toc_position": {},
   "toc_section_display": true,
   "toc_window_display": true
  },
  "varInspector": {
   "cols": {
    "lenName": 16,
    "lenType": 16,
    "lenVar": 40
   },
   "kernels_config": {
    "python": {
     "delete_cmd_postfix": "",
     "delete_cmd_prefix": "del ",
     "library": "var_list.py",
     "varRefreshCmd": "print(var_dic_list())"
    },
    "r": {
     "delete_cmd_postfix": ") ",
     "delete_cmd_prefix": "rm(",
     "library": "var_list.r",
     "varRefreshCmd": "cat(var_dic_list()) "
    }
   },
   "types_to_exclude": [
    "module",
    "function",
    "builtin_function_or_method",
    "instance",
    "_Feature"
   ],
   "window_display": false
  }
 },
 "nbformat": 4,
 "nbformat_minor": 2
}
